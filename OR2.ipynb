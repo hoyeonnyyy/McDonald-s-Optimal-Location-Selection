{
 "cells": [
  {
   "cell_type": "code",
   "execution_count": 1,
   "id": "674f742d",
   "metadata": {},
   "outputs": [],
   "source": [
    "import cplex"
   ]
  },
  {
   "cell_type": "code",
   "execution_count": 2,
   "id": "a71b178e",
   "metadata": {},
   "outputs": [],
   "source": [
    "from docplex.mp.model import Model"
   ]
  },
  {
   "cell_type": "code",
   "execution_count": 3,
   "id": "62d8fdba",
   "metadata": {},
   "outputs": [],
   "source": [
    "m = Model(name='primal')"
   ]
  },
  {
   "cell_type": "code",
   "execution_count": 4,
   "id": "53ddcd7b",
   "metadata": {},
   "outputs": [],
   "source": [
    "# 첫번째 최적화를 통해 나온 입지를 변수로 설정\n",
    "x30 = m.binary_var(name='x30')\n",
    "x43 = m.binary_var(name='x43')\n",
    "x68 = m.binary_var(name='x68')\n",
    "x71 = m.binary_var(name='x71')\n",
    "x78 = m.binary_var(name='x78')\n",
    "x93 = m.binary_var(name='x93')\n",
    "x97 = m.binary_var(name='x97')\n",
    "x105 = m.binary_var(name='x105')\n",
    "x108 = m.binary_var(name='x108')\n",
    "x121 = m.binary_var(name='x121')\n",
    "x122 = m.binary_var(name='x122')\n",
    "x123 = m.binary_var(name='x123')\n",
    "x134 = m.binary_var(name='x134')"
   ]
  },
  {
   "cell_type": "code",
   "execution_count": 14,
   "id": "a295adc1",
   "metadata": {},
   "outputs": [],
   "source": [
    "# 점포수 최소 7개 이상\n",
    "c1 = m.add_constraint(x30+x43+x68+x71+x78+x93+x97+x105+x108+x121+x122+x123+x134 >= 7, ctname = 'const1')"
   ]
  },
  {
   "cell_type": "code",
   "execution_count": 15,
   "id": "0b2f88b8",
   "metadata": {},
   "outputs": [],
   "source": [
    "# 해당 지역 거주 인구수 고려\n",
    "c2 = m.add_constraint(6215 * x30 + 3981 * x43 + 1542 * x68 + 4718 * x71 + 1542 * x78 + 5775 * x93 + 6279 * x97 + 1542 * x105 + 4233 * x108 + 3723 * x121 + 8605 * x122 + 8605 * x123 + 3723 * x134 >= 406004/20, ctname = 'const2')"
   ]
  },
  {
   "cell_type": "code",
   "execution_count": 16,
   "id": "53ac90dc",
   "metadata": {},
   "outputs": [],
   "source": [
    "# 학익동 점포수 2개 이하\n",
    "c3 = m.add_constraint(x68+x78+x93+x105 <=2, ctname = 'const3')"
   ]
  },
  {
   "cell_type": "code",
   "execution_count": 17,
   "id": "d04fd8da",
   "metadata": {},
   "outputs": [],
   "source": [
    "# 주안동 점포수 2개 이하\n",
    "c4 = m.add_constraint(x108+x121+x122+x123+x134 <=2, ctname = 'const4')"
   ]
  },
  {
   "cell_type": "code",
   "execution_count": 18,
   "id": "d7f362a0",
   "metadata": {},
   "outputs": [],
   "source": [
    "# 평균공시지가로 동마다 고려하여 목적변수 설정\n",
    "m.set_objective(\"min\", 1790000 * (x97) + 1652706 * (x71) + 1442610 * (x30+x43) + 2156240 * (x108+x121+x122+x123+x134) + 1718800 * (x68+x78+x93+x105))"
   ]
  },
  {
   "cell_type": "code",
   "execution_count": 19,
   "id": "a2e75842",
   "metadata": {},
   "outputs": [
    {
     "name": "stdout",
     "output_type": "stream",
     "text": [
      "Model: primal\n",
      " - number of variables: 13\n",
      "   - binary=13, integer=0, continuous=0\n",
      " - number of constraints: 8\n",
      "   - linear=8\n",
      " - parameters: defaults\n",
      " - objective: minimize\n",
      " - problem type is: MILP\n"
     ]
    }
   ],
   "source": [
    "m.print_information()"
   ]
  },
  {
   "cell_type": "code",
   "execution_count": 20,
   "id": "49c48fcb",
   "metadata": {},
   "outputs": [
    {
     "data": {
      "text/plain": [
       "docplex.mp.solution.SolveSolution(obj=1.19218e+07,values={x30:1,x43:1,x6.."
      ]
     },
     "execution_count": 20,
     "metadata": {},
     "output_type": "execute_result"
    }
   ],
   "source": [
    "m.solve()"
   ]
  },
  {
   "cell_type": "code",
   "execution_count": 21,
   "id": "e24427ec",
   "metadata": {},
   "outputs": [
    {
     "name": "stdout",
     "output_type": "stream",
     "text": [
      "objective: 11921766\n",
      "  x30=1\n",
      "  x43=1\n",
      "  x68=1\n",
      "  x71=1\n",
      "  x93=1\n",
      "  x97=1\n",
      "  x122=1\n"
     ]
    }
   ],
   "source": [
    "m.print_solution()"
   ]
  }
 ],
 "metadata": {
  "kernelspec": {
   "display_name": "or",
   "language": "python",
   "name": "hybda"
  },
  "language_info": {
   "codemirror_mode": {
    "name": "ipython",
    "version": 3
   },
   "file_extension": ".py",
   "mimetype": "text/x-python",
   "name": "python",
   "nbconvert_exporter": "python",
   "pygments_lexer": "ipython3",
   "version": "3.8.16"
  }
 },
 "nbformat": 4,
 "nbformat_minor": 5
}
